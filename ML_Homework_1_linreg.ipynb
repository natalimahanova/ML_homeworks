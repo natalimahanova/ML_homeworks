{
 "cells": [
  {
   "cell_type": "markdown",
   "metadata": {},
   "source": [
    "# Домашнее задание №1: линейная регрессия и векторное дифференцирование (10 баллов) - Маханова_НН_Вариант 1.\n",
    "\n",
    "* Максимальное количество баллов за задания в ноутбуке - 11, но больше 10 оценка не ставится, поэтому для получения максимальной оценки можно сделать не все задания.\n",
    "\n",
    "* Некоторые задания будут по вариантам (всего 4 варианта). Чтобы выяснить свой вариант, посчитайте количество букв в своей фамилии, возьмете остаток от деления на 4 и прибавьте 1."
   ]
  },
  {
   "cell_type": "code",
   "execution_count": 1,
   "metadata": {},
   "outputs": [],
   "source": [
    "import numpy as np\n",
    "from sklearn.datasets import make_regression\n",
    "from sklearn.linear_model import LinearRegression\n",
    "from sklearn.metrics import mean_squared_error\n",
    "from sklearn.linear_model import SGDRegressor\n",
    "from sklearn.linear_model import Lasso\n",
    "import matplotlib.pyplot as plt"
   ]
  },
  {
   "cell_type": "markdown",
   "metadata": {},
   "source": [
    "## Многомерная линейная регрессия из sklearn"
   ]
  },
  {
   "cell_type": "markdown",
   "metadata": {},
   "source": [
    "Применим многомерную регрессию из sklearn для стандартного датасета"
   ]
  },
  {
   "cell_type": "code",
   "execution_count": 2,
   "metadata": {},
   "outputs": [
    {
     "name": "stdout",
     "output_type": "stream",
     "text": [
      "(10000, 5) (10000,)\n"
     ]
    }
   ],
   "source": [
    "X, y = make_regression(n_samples = 10000, n_features=5)\n",
    "print(X.shape, y.shape)"
   ]
  },
  {
   "cell_type": "markdown",
   "metadata": {},
   "source": [
    "У нас 10000 объектов и 100 признаков. Для начала решим задачу аналитически \"из коробки\"."
   ]
  },
  {
   "cell_type": "code",
   "execution_count": 3,
   "metadata": {},
   "outputs": [
    {
     "name": "stdout",
     "output_type": "stream",
     "text": [
      "1.6540389616212067e-26\n"
     ]
    }
   ],
   "source": [
    "reg = LinearRegression().fit(X, y)\n",
    "print(mean_squared_error(y, reg.predict(X)))\n",
    "MSE = mean_squared_error(y, reg.predict(X))\n",
    "#reg.coef_"
   ]
  },
  {
   "cell_type": "markdown",
   "metadata": {},
   "source": [
    "Теперь попробуем обучить линейную регрессию методом градиентного спуска \"из коробки\""
   ]
  },
  {
   "cell_type": "code",
   "execution_count": 4,
   "metadata": {},
   "outputs": [
    {
     "name": "stdout",
     "output_type": "stream",
     "text": [
      "1.270875995655589e-12\n"
     ]
    }
   ],
   "source": [
    "reg = SGDRegressor(alpha=0.00000001).fit(X, y)\n",
    "MSE_descent = mean_squared_error(y, reg.predict(X))\n",
    "print(mean_squared_error(y, reg.predict(X)))\n",
    "#reg.coef_"
   ]
  },
  {
   "cell_type": "markdown",
   "metadata": {},
   "source": [
    "***Задание 1 (0.5 балла).*** Объясните, чем вызвано различие двух полученных значений метрики?"
   ]
  },
  {
   "cell_type": "markdown",
   "metadata": {},
   "source": [
    "<font color='blue'>Аналитическое решение даёт ответ с помощью минимизации отклонений модели от данных, а градиентный спуск итеративно сходится к оптимальному решению, поэтому может давать другие результаты в зависимости от количества и величины шагов. Также градиентный спуск может по разным причинам перестать сходиться, из-за чего разница будет ещё больше.</font>"
   ]
  },
  {
   "cell_type": "markdown",
   "metadata": {},
   "source": [
    "***Задание 2 (0.5 балла).*** Подберите гиперпараметры в методе градиентного спуска так, чтобы значение MSE было близко к значению MSE, полученному при обучении LinearRegression."
   ]
  },
  {
   "cell_type": "markdown",
   "metadata": {},
   "source": [
    "С помощью данной функции получаем модуль разницы между MSE LinearRegression() и градиентным спуском с данной альфой"
   ]
  },
  {
   "cell_type": "code",
   "execution_count": 5,
   "metadata": {},
   "outputs": [],
   "source": [
    "def get_difference(alpha):\n",
    "    reg = SGDRegressor(alpha = alpha).fit(X, y)\n",
    "    return (abs(MSE - mean_squared_error(y, reg.predict(X))))"
   ]
  },
  {
   "cell_type": "markdown",
   "metadata": {},
   "source": [
    "Получаем список разниц с разными альфа в диапазоне 50 шагов влево и 20 вправо от изначального значения"
   ]
  },
  {
   "cell_type": "code",
   "execution_count": 6,
   "metadata": {},
   "outputs": [],
   "source": [
    "a_initial = 0.00000001\n",
    "a_step = a_initial / 100\n",
    "a_start = a_initial - a_step * 50\n",
    "a_end = a_initial + a_step * 20\n",
    "alphas = np.arange(a_start, a_end, a_step)\n",
    "\n",
    "MSE_diff = []\n",
    "for alpha in alphas:\n",
    "    MSE_diff.append(get_difference(alpha))"
   ]
  },
  {
   "cell_type": "markdown",
   "metadata": {},
   "source": [
    "Строим график, чтобы посмотреть изменение разницы в зависимости от выбранной альфа. На графике видно, что при уменьшении альфа разница уменьшается, поэтому лучшая альфа в выборке - наименьшая. Линия - изначальное значение альфа."
   ]
  },
  {
   "cell_type": "code",
   "execution_count": 7,
   "metadata": {},
   "outputs": [
    {
     "data": {
      "text/plain": [
       "Text(0, 0.5, 'MSE diff')"
      ]
     },
     "execution_count": 7,
     "metadata": {},
     "output_type": "execute_result"
    },
    {
     "data": {
      "image/png": "[encoded data removed]",
      "text/plain": [
       "<Figure size 432x288 with 1 Axes>"
      ]
     },
     "metadata": {
      "needs_background": "light"
     },
     "output_type": "display_data"
    }
   ],
   "source": [
    "plt.plot(alphas, MSE_diff)\n",
    "plt.plot([a_initial, a_initial], [0, max(MSE_diff)], 'k-', lw=1)\n",
    "plt.xlabel('alphas')\n",
    "plt.ylabel('MSE diff')"
   ]
  },
  {
   "cell_type": "code",
   "execution_count": 8,
   "metadata": {},
   "outputs": [
    {
     "name": "stdout",
     "output_type": "stream",
     "text": [
      "Ответ: альфа равная 5e-09\n"
     ]
    }
   ],
   "source": [
    "array = np.array([alphas, MSE_diff])\n",
    "\n",
    "best_alpha_index = array[1].argmin()\n",
    "best_alpha = array[0, best_alpha_index]\n",
    "\n",
    "print(\"Ответ: альфа равная \" + str(best_alpha))"
   ]
  },
  {
   "cell_type": "markdown",
   "metadata": {},
   "source": [
    "## Ваша многомерная линейная регрессия"
   ]
  },
  {
   "cell_type": "markdown",
   "metadata": {},
   "source": [
    "***Задание 3 (5 баллов)***. Напишите собственную многомерную линейную регрессию, оптимизирующую MSE методом *градиентного спуска*. Для этого используйте шаблонный класс. \n",
    "\n",
    "Критерий остановки: либо норма разности весов на текущей и предыдущей итерациях меньше определенного значения (первый и третий варианты), либо модуль разности функционалов качества (MSE) на текущей и предыдущей итерациях меньше определенного значения (второй и четвертый варианты). Также предлагается завершать обучение в любом случае, если было произведено слишком много итераций.\n",
    "\n",
    "***Задание 4 (2 балла)***. Добавьте l1 (первый и второй варианты) или l2 (третий и четвертый варианты) регуляризацию. "
   ]
  },
  {
   "cell_type": "code",
   "execution_count": 17,
   "metadata": {},
   "outputs": [],
   "source": [
    "class MyLinearRegression(object):\n",
    "    def __init__(self, alpha=0.0001, l_ratio=0.001, tol=0.001, max_iter=1000):\n",
    "        self.alpha = alpha\n",
    "        self.l_ratio = l_ratio\n",
    "        self.tol = tol\n",
    "        self.max_iter = max_iter\n",
    "             \n",
    "    def fit(self, X, y):\n",
    "        # Проверяем на одномерность датасет\n",
    "        if (len(X.shape) > 1):\n",
    "            self.beta = np.ones(X.shape[1])\n",
    "        else:\n",
    "            self.beta = 0\n",
    "        self.c = 0\n",
    "        \n",
    "        for i in range(self.max_iter):\n",
    "            loss = (np.dot(X, self.beta) + self.c) - y\n",
    "            \n",
    "            # Вычисляем градиент с учётом l1 регуляризации\n",
    "            beta_gradient = X.T@loss / X.shape[0] + self.l_ratio*np.linalg.norm(self.beta)\n",
    "            c_gradient = loss.sum() / X.shape[0]\n",
    "\n",
    "            new_beta = self.beta - self.alpha * beta_gradient\n",
    "            \n",
    "            # Проверяем критерий остановки\n",
    "            norm = np.linalg.norm(self.beta - new_beta)\n",
    "            if (norm < self.tol):\n",
    "                break\n",
    "            \n",
    "            # Назначаем новые значения параметров\n",
    "            self.beta = new_beta\n",
    "            self.c = self.c - c_gradient\n",
    "        \n",
    "    def predict(self, X):\n",
    "        prediction = np.dot(X, self.beta) + self.c\n",
    "        \n",
    "        return prediction"
   ]
  },
  {
   "cell_type": "code",
   "execution_count": 20,
   "metadata": {},
   "outputs": [
    {
     "name": "stdout",
     "output_type": "stream",
     "text": [
      "1.414364915423616e-06\n",
      "You are amazing! Great work!\n"
     ]
    }
   ],
   "source": [
    "my_reg = MyLinearRegression(max_iter = 1000000, tol = 0.0000001, l_ratio = 0.000001)\n",
    "my_reg.fit(X, y)\n",
    "\n",
    "print(mean_squared_error(y, my_reg.predict(X)))\n",
    "assert mean_squared_error(y, my_reg.predict(X)) < 1e-3\n",
    "print('You are amazing! Great work!')"
   ]
  },
  {
   "cell_type": "markdown",
   "metadata": {},
   "source": [
    "***Задание 5 (1 балл)***. Обучите линейную регрессию из коробки\n",
    "\n",
    "* с l1-регуляризацией (from sklearn.linear_model import Lasso, **первый и второй вариант**) или с l2-регуляризацией (from sklearn.linear_model import Ridge, **третий и четвертый вариант**)\n",
    "* со значением параметра регуляризации **0.1 - для первого и третьего варианта, 0.01 - для второго и четвертого варианта**. \n",
    "\n",
    "Обучите вашу линейную регрессию с тем же значением параметра регуляризации и сравните результаты. Сделайте выводы."
   ]
  },
  {
   "cell_type": "code",
   "execution_count": 11,
   "metadata": {},
   "outputs": [
    {
     "name": "stdout",
     "output_type": "stream",
     "text": [
      "0.049686209767317\n",
      "501.29346692268047\n"
     ]
    }
   ],
   "source": [
    "lasso = Lasso(alpha = 0.1)\n",
    "lasso.fit(X, y)\n",
    "\n",
    "my_regression = MyLinearRegression(max_iter = 10000000, tol = 0.0000001, l_ratio = 0.1)\n",
    "my_regression.fit(X, y)\n",
    "\n",
    "MSE_sklearn = mean_squared_error(y, lasso.predict(X))\n",
    "MSE_my = mean_squared_error(y, my_regression.predict(X))\n",
    "\n",
    "print(MSE_sklearn)\n",
    "print(MSE_my)"
   ]
  },
  {
   "cell_type": "markdown",
   "metadata": {},
   "source": [
    "<font color='blue'>Вывод: Лучше использовать из коробки)<font>"
   ]
  },
  {
   "cell_type": "markdown",
   "metadata": {},
   "source": [
    "***Задание 6* (1 балл).***\n",
    "Пусть $P, Q \\in \\mathbb{R}^{n\\times n}$. Найдите $\\nabla_Q tr(PQ)$"
   ]
  },
  {
   "cell_type": "markdown",
   "metadata": {},
   "source": [
    "<font color='blue'>Ответ: матрица P транспонированная\n",
    "\n",
    "<font color='blue'>Объяснение: tr(XY) равен двойной сумме Xij * Yji, которая после дифференцирования по матрице Y даёт матрицу той же размерности, в которой оставляет в лишь элементы матрицы X, но в транспонированном порядке.<font>"
   ]
  },
  {
   "cell_type": "markdown",
   "metadata": {},
   "source": [
    "***Задание 7* (1 балл).***\n",
    "Пусть $x, y \\in \\mathbb{R}^{n}, M \\in \\mathbb{R}^{n\\times n}$. Найдите $\\nabla_M x^T M y$"
   ]
  },
  {
   "cell_type": "markdown",
   "metadata": {},
   "source": [
    "<font color='blue'>Ответ: X*Y^T"
   ]
  },
  {
   "cell_type": "markdown",
   "metadata": {},
   "source": [
    "Решения заданий 6 и 7 можно написать на листочке и отправить в anytask вместе с заполненным ноутбуком."
   ]
  }
 ],
 "metadata": {
  "interpreter": {
   "hash": "1343a48429108cf568c80db41d7e11484bf27082f74535acbae6b879e7fecdda"
  },
  "kernelspec": {
   "display_name": "Python 3 (ipykernel)",
   "language": "python",
   "name": "python3"
  },
  "language_info": {
   "codemirror_mode": {
    "name": "ipython",
    "version": 3
   },
   "file_extension": ".py",
   "mimetype": "text/x-python",
   "name": "python",
   "nbconvert_exporter": "python",
   "pygments_lexer": "ipython3",
   "version": "3.9.7"
  }
 },
 "nbformat": 4,
 "nbformat_minor": 2
}
